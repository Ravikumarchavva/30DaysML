{
 "cells": [
  {
   "cell_type": "code",
   "execution_count": 199,
   "metadata": {},
   "outputs": [],
   "source": [
    "import sys\n",
    "sys.path.append(\"../../\")\n",
    "import warnings\n",
    "warnings.simplefilter(action=\"ignore\")\n",
    "import numpy as np\n",
    "import seaborn as sns\n",
    "import pandas as pd\n",
    "import polars as pl\n",
    "import plotly.express as px\n",
    "from functions.eda import *\n",
    "from functions.cat_eda import *\n",
    "from functions.num_eda import *"
   ]
  },
  {
   "cell_type": "code",
   "execution_count": 200,
   "metadata": {},
   "outputs": [
    {
     "data": {
      "text/plain": [
       "((4905, 18), (2105, 18))"
      ]
     },
     "execution_count": 200,
     "metadata": {},
     "output_type": "execute_result"
    }
   ],
   "source": [
    "train_data = pl.read_csv(\"train_data.csv\")\n",
    "test_data = pl.read_csv(\"test_data.csv\")\n",
    "train_data.shape,test_data.shape"
   ]
  },
  {
   "cell_type": "code",
   "execution_count": 201,
   "metadata": {},
   "outputs": [],
   "source": [
    "cat_cols=[col for col in train_data.columns if train_data[col].dtype== pl.String]\n",
    "num_cols=[col for col in train_data.drop(\"Churn\").columns if train_data[col].dtype!= pl.String]"
   ]
  },
  {
   "cell_type": "markdown",
   "metadata": {},
   "source": [
    "# Feature selection"
   ]
  },
  {
   "cell_type": "code",
   "execution_count": 202,
   "metadata": {},
   "outputs": [
    {
     "name": "stdout",
     "output_type": "stream",
     "text": [
      "TotalCharges        0.548010\n",
      "MonthlyCharges      0.207698\n",
      "Contract            0.098141\n",
      "tenure              0.079819\n",
      "TechSupport         0.062911\n",
      "OnlineSecurity      0.060971\n",
      "InternetService     0.054016\n",
      "OnlineBackup        0.046909\n",
      "PaymentMethod       0.045041\n",
      "DeviceProtection    0.043602\n",
      "StreamingTV         0.031378\n",
      "StreamingMovies     0.031220\n",
      "PaperlessBilling    0.019551\n",
      "Dependents          0.015014\n",
      "SeniorCitizen       0.012731\n",
      "Partner             0.010570\n",
      "MultipleLines       0.001146\n",
      "dtype: float64\n"
     ]
    }
   ],
   "source": [
    "from sklearn.feature_selection import mutual_info_classif\n",
    "\n",
    "# Compute the mutual information between each feature and the target\n",
    "mi = mutual_info_classif(train_data.drop(\"Churn\"), train_data[\"Churn\"], discrete_features=True)\n",
    "mi_series = pd.Series(mi, index=train_data.drop(\"Churn\").columns).sort_values(ascending=False)\n",
    "print(mi_series)"
   ]
  },
  {
   "cell_type": "code",
   "execution_count": 203,
   "metadata": {},
   "outputs": [],
   "source": [
    "train_data=train_data.drop(\"Dependents\",'SeniorCitizen',\"Partner\",\"MultipleLines\")\n",
    "test_data=test_data.drop(\"Dependents\",'SeniorCitizen',\"Partner\",\"MultipleLines\")\n",
    "cat_cols=[col for col in train_data.columns if train_data[col].dtype== pl.String]\n",
    "num_cols=[col for col in train_data.drop(\"Churn\").columns if train_data[col].dtype!= pl.String]"
   ]
  },
  {
   "cell_type": "markdown",
   "metadata": {},
   "source": [
    "No high multicollinear features"
   ]
  },
  {
   "cell_type": "code",
   "execution_count": 204,
   "metadata": {},
   "outputs": [
    {
     "data": {
      "text/html": [
       "<div>\n",
       "<style scoped>\n",
       "    .dataframe tbody tr th:only-of-type {\n",
       "        vertical-align: middle;\n",
       "    }\n",
       "\n",
       "    .dataframe tbody tr th {\n",
       "        vertical-align: top;\n",
       "    }\n",
       "\n",
       "    .dataframe thead th {\n",
       "        text-align: right;\n",
       "    }\n",
       "</style>\n",
       "<table border=\"1\" class=\"dataframe\">\n",
       "  <thead>\n",
       "    <tr style=\"text-align: right;\">\n",
       "      <th></th>\n",
       "      <th>variables</th>\n",
       "      <th>VIF</th>\n",
       "    </tr>\n",
       "  </thead>\n",
       "  <tbody>\n",
       "    <tr>\n",
       "      <th>0</th>\n",
       "      <td>const</td>\n",
       "      <td>14.949773</td>\n",
       "    </tr>\n",
       "    <tr>\n",
       "      <th>3</th>\n",
       "      <td>TotalCharges</td>\n",
       "      <td>9.480061</td>\n",
       "    </tr>\n",
       "    <tr>\n",
       "      <th>1</th>\n",
       "      <td>tenure</td>\n",
       "      <td>5.748004</td>\n",
       "    </tr>\n",
       "    <tr>\n",
       "      <th>2</th>\n",
       "      <td>MonthlyCharges</td>\n",
       "      <td>3.273988</td>\n",
       "    </tr>\n",
       "  </tbody>\n",
       "</table>\n",
       "</div>"
      ],
      "text/plain": [
       "        variables        VIF\n",
       "0           const  14.949773\n",
       "3    TotalCharges   9.480061\n",
       "1          tenure   5.748004\n",
       "2  MonthlyCharges   3.273988"
      ]
     },
     "execution_count": 204,
     "metadata": {},
     "output_type": "execute_result"
    }
   ],
   "source": [
    "from statsmodels.stats.outliers_influence import variance_inflation_factor\n",
    "import statsmodels.api as sm\n",
    "def calculate_vif(df):\n",
    "    vif = pd.DataFrame()\n",
    "    vif[\"variables\"] = df.columns\n",
    "    vif[\"VIF\"] = [variance_inflation_factor(df.values, i) for i in range(df.shape[1])]\n",
    "    return vif\n",
    "\n",
    "df = sm.add_constant(train_data[num_cols].to_pandas())\n",
    "calculate_vif(df).sort_values(by='VIF',ascending=False).head()"
   ]
  },
  {
   "cell_type": "markdown",
   "metadata": {},
   "source": [
    "imbalance ratio inverse"
   ]
  },
  {
   "cell_type": "code",
   "execution_count": 205,
   "metadata": {},
   "outputs": [
    {
     "data": {
      "text/plain": [
       "2.773076923076923"
      ]
     },
     "execution_count": 205,
     "metadata": {},
     "output_type": "execute_result"
    }
   ],
   "source": [
    "len(train_data.filter(train_data[\"Churn\"]==0))/len(train_data.filter(train_data[\"Churn\"]==1))"
   ]
  },
  {
   "cell_type": "code",
   "execution_count": 206,
   "metadata": {},
   "outputs": [
    {
     "data": {
      "text/html": [
       "<style>#sk-container-id-27 {color: black;}#sk-container-id-27 pre{padding: 0;}#sk-container-id-27 div.sk-toggleable {background-color: white;}#sk-container-id-27 label.sk-toggleable__label {cursor: pointer;display: block;width: 100%;margin-bottom: 0;padding: 0.3em;box-sizing: border-box;text-align: center;}#sk-container-id-27 label.sk-toggleable__label-arrow:before {content: \"▸\";float: left;margin-right: 0.25em;color: #696969;}#sk-container-id-27 label.sk-toggleable__label-arrow:hover:before {color: black;}#sk-container-id-27 div.sk-estimator:hover label.sk-toggleable__label-arrow:before {color: black;}#sk-container-id-27 div.sk-toggleable__content {max-height: 0;max-width: 0;overflow: hidden;text-align: left;background-color: #f0f8ff;}#sk-container-id-27 div.sk-toggleable__content pre {margin: 0.2em;color: black;border-radius: 0.25em;background-color: #f0f8ff;}#sk-container-id-27 input.sk-toggleable__control:checked~div.sk-toggleable__content {max-height: 200px;max-width: 100%;overflow: auto;}#sk-container-id-27 input.sk-toggleable__control:checked~label.sk-toggleable__label-arrow:before {content: \"▾\";}#sk-container-id-27 div.sk-estimator input.sk-toggleable__control:checked~label.sk-toggleable__label {background-color: #d4ebff;}#sk-container-id-27 div.sk-label input.sk-toggleable__control:checked~label.sk-toggleable__label {background-color: #d4ebff;}#sk-container-id-27 input.sk-hidden--visually {border: 0;clip: rect(1px 1px 1px 1px);clip: rect(1px, 1px, 1px, 1px);height: 1px;margin: -1px;overflow: hidden;padding: 0;position: absolute;width: 1px;}#sk-container-id-27 div.sk-estimator {font-family: monospace;background-color: #f0f8ff;border: 1px dotted black;border-radius: 0.25em;box-sizing: border-box;margin-bottom: 0.5em;}#sk-container-id-27 div.sk-estimator:hover {background-color: #d4ebff;}#sk-container-id-27 div.sk-parallel-item::after {content: \"\";width: 100%;border-bottom: 1px solid gray;flex-grow: 1;}#sk-container-id-27 div.sk-label:hover label.sk-toggleable__label {background-color: #d4ebff;}#sk-container-id-27 div.sk-serial::before {content: \"\";position: absolute;border-left: 1px solid gray;box-sizing: border-box;top: 0;bottom: 0;left: 50%;z-index: 0;}#sk-container-id-27 div.sk-serial {display: flex;flex-direction: column;align-items: center;background-color: white;padding-right: 0.2em;padding-left: 0.2em;position: relative;}#sk-container-id-27 div.sk-item {position: relative;z-index: 1;}#sk-container-id-27 div.sk-parallel {display: flex;align-items: stretch;justify-content: center;background-color: white;position: relative;}#sk-container-id-27 div.sk-item::before, #sk-container-id-27 div.sk-parallel-item::before {content: \"\";position: absolute;border-left: 1px solid gray;box-sizing: border-box;top: 0;bottom: 0;left: 50%;z-index: -1;}#sk-container-id-27 div.sk-parallel-item {display: flex;flex-direction: column;z-index: 1;position: relative;background-color: white;}#sk-container-id-27 div.sk-parallel-item:first-child::after {align-self: flex-end;width: 50%;}#sk-container-id-27 div.sk-parallel-item:last-child::after {align-self: flex-start;width: 50%;}#sk-container-id-27 div.sk-parallel-item:only-child::after {width: 0;}#sk-container-id-27 div.sk-dashed-wrapped {border: 1px dashed gray;margin: 0 0.4em 0.5em 0.4em;box-sizing: border-box;padding-bottom: 0.4em;background-color: white;}#sk-container-id-27 div.sk-label label {font-family: monospace;font-weight: bold;display: inline-block;line-height: 1.2em;}#sk-container-id-27 div.sk-label-container {text-align: center;}#sk-container-id-27 div.sk-container {/* jupyter's `normalize.less` sets `[hidden] { display: none; }` but bootstrap.min.css set `[hidden] { display: none !important; }` so we also need the `!important` here to be able to override the default hidden behavior on the sphinx rendered scikit-learn.org. See: https://github.com/scikit-learn/scikit-learn/issues/21755 */display: inline-block !important;position: relative;}#sk-container-id-27 div.sk-text-repr-fallback {display: none;}</style><div id=\"sk-container-id-27\" class=\"sk-top-container\"><div class=\"sk-text-repr-fallback\"><pre>Pipeline(steps=[(&#x27;tranformer&#x27;,\n",
       "                 ColumnTransformer(remainder=&#x27;passthrough&#x27;,\n",
       "                                   transformers=[(&#x27;onehot&#x27;,\n",
       "                                                  OneHotEncoder(drop=&#x27;first&#x27;,\n",
       "                                                                handle_unknown=&#x27;ignore&#x27;),\n",
       "                                                  [&#x27;InternetService&#x27;,\n",
       "                                                   &#x27;OnlineSecurity&#x27;,\n",
       "                                                   &#x27;OnlineBackup&#x27;,\n",
       "                                                   &#x27;DeviceProtection&#x27;,\n",
       "                                                   &#x27;TechSupport&#x27;, &#x27;StreamingTV&#x27;,\n",
       "                                                   &#x27;StreamingMovies&#x27;,\n",
       "                                                   &#x27;Contract&#x27;,\n",
       "                                                   &#x27;PaperlessBilling&#x27;,\n",
       "                                                   &#x27;PaymentMethod&#x27;]),\n",
       "                                                 (&#x27;scaler&#x27;, StandardScaler(),\n",
       "                                                  [&#x27;tenure&#x27;, &#x27;MonthlyCharges&#x27;,\n",
       "                                                   &#x27;TotalCharges&#x27;])])),\n",
       "                (&#x27;classifier&#x27;,\n",
       "                 LogisticRegression(class_weight={0: 1, 1: 2.77}))])</pre><b>In a Jupyter environment, please rerun this cell to show the HTML representation or trust the notebook. <br />On GitHub, the HTML representation is unable to render, please try loading this page with nbviewer.org.</b></div><div class=\"sk-container\" hidden><div class=\"sk-item sk-dashed-wrapped\"><div class=\"sk-label-container\"><div class=\"sk-label sk-toggleable\"><input class=\"sk-toggleable__control sk-hidden--visually\" id=\"sk-estimator-id-235\" type=\"checkbox\" ><label for=\"sk-estimator-id-235\" class=\"sk-toggleable__label sk-toggleable__label-arrow\">Pipeline</label><div class=\"sk-toggleable__content\"><pre>Pipeline(steps=[(&#x27;tranformer&#x27;,\n",
       "                 ColumnTransformer(remainder=&#x27;passthrough&#x27;,\n",
       "                                   transformers=[(&#x27;onehot&#x27;,\n",
       "                                                  OneHotEncoder(drop=&#x27;first&#x27;,\n",
       "                                                                handle_unknown=&#x27;ignore&#x27;),\n",
       "                                                  [&#x27;InternetService&#x27;,\n",
       "                                                   &#x27;OnlineSecurity&#x27;,\n",
       "                                                   &#x27;OnlineBackup&#x27;,\n",
       "                                                   &#x27;DeviceProtection&#x27;,\n",
       "                                                   &#x27;TechSupport&#x27;, &#x27;StreamingTV&#x27;,\n",
       "                                                   &#x27;StreamingMovies&#x27;,\n",
       "                                                   &#x27;Contract&#x27;,\n",
       "                                                   &#x27;PaperlessBilling&#x27;,\n",
       "                                                   &#x27;PaymentMethod&#x27;]),\n",
       "                                                 (&#x27;scaler&#x27;, StandardScaler(),\n",
       "                                                  [&#x27;tenure&#x27;, &#x27;MonthlyCharges&#x27;,\n",
       "                                                   &#x27;TotalCharges&#x27;])])),\n",
       "                (&#x27;classifier&#x27;,\n",
       "                 LogisticRegression(class_weight={0: 1, 1: 2.77}))])</pre></div></div></div><div class=\"sk-serial\"><div class=\"sk-item sk-dashed-wrapped\"><div class=\"sk-label-container\"><div class=\"sk-label sk-toggleable\"><input class=\"sk-toggleable__control sk-hidden--visually\" id=\"sk-estimator-id-236\" type=\"checkbox\" ><label for=\"sk-estimator-id-236\" class=\"sk-toggleable__label sk-toggleable__label-arrow\">tranformer: ColumnTransformer</label><div class=\"sk-toggleable__content\"><pre>ColumnTransformer(remainder=&#x27;passthrough&#x27;,\n",
       "                  transformers=[(&#x27;onehot&#x27;,\n",
       "                                 OneHotEncoder(drop=&#x27;first&#x27;,\n",
       "                                               handle_unknown=&#x27;ignore&#x27;),\n",
       "                                 [&#x27;InternetService&#x27;, &#x27;OnlineSecurity&#x27;,\n",
       "                                  &#x27;OnlineBackup&#x27;, &#x27;DeviceProtection&#x27;,\n",
       "                                  &#x27;TechSupport&#x27;, &#x27;StreamingTV&#x27;,\n",
       "                                  &#x27;StreamingMovies&#x27;, &#x27;Contract&#x27;,\n",
       "                                  &#x27;PaperlessBilling&#x27;, &#x27;PaymentMethod&#x27;]),\n",
       "                                (&#x27;scaler&#x27;, StandardScaler(),\n",
       "                                 [&#x27;tenure&#x27;, &#x27;MonthlyCharges&#x27;, &#x27;TotalCharges&#x27;])])</pre></div></div></div><div class=\"sk-parallel\"><div class=\"sk-parallel-item\"><div class=\"sk-item\"><div class=\"sk-label-container\"><div class=\"sk-label sk-toggleable\"><input class=\"sk-toggleable__control sk-hidden--visually\" id=\"sk-estimator-id-237\" type=\"checkbox\" ><label for=\"sk-estimator-id-237\" class=\"sk-toggleable__label sk-toggleable__label-arrow\">onehot</label><div class=\"sk-toggleable__content\"><pre>[&#x27;InternetService&#x27;, &#x27;OnlineSecurity&#x27;, &#x27;OnlineBackup&#x27;, &#x27;DeviceProtection&#x27;, &#x27;TechSupport&#x27;, &#x27;StreamingTV&#x27;, &#x27;StreamingMovies&#x27;, &#x27;Contract&#x27;, &#x27;PaperlessBilling&#x27;, &#x27;PaymentMethod&#x27;]</pre></div></div></div><div class=\"sk-serial\"><div class=\"sk-item\"><div class=\"sk-estimator sk-toggleable\"><input class=\"sk-toggleable__control sk-hidden--visually\" id=\"sk-estimator-id-238\" type=\"checkbox\" ><label for=\"sk-estimator-id-238\" class=\"sk-toggleable__label sk-toggleable__label-arrow\">OneHotEncoder</label><div class=\"sk-toggleable__content\"><pre>OneHotEncoder(drop=&#x27;first&#x27;, handle_unknown=&#x27;ignore&#x27;)</pre></div></div></div></div></div></div><div class=\"sk-parallel-item\"><div class=\"sk-item\"><div class=\"sk-label-container\"><div class=\"sk-label sk-toggleable\"><input class=\"sk-toggleable__control sk-hidden--visually\" id=\"sk-estimator-id-239\" type=\"checkbox\" ><label for=\"sk-estimator-id-239\" class=\"sk-toggleable__label sk-toggleable__label-arrow\">scaler</label><div class=\"sk-toggleable__content\"><pre>[&#x27;tenure&#x27;, &#x27;MonthlyCharges&#x27;, &#x27;TotalCharges&#x27;]</pre></div></div></div><div class=\"sk-serial\"><div class=\"sk-item\"><div class=\"sk-estimator sk-toggleable\"><input class=\"sk-toggleable__control sk-hidden--visually\" id=\"sk-estimator-id-240\" type=\"checkbox\" ><label for=\"sk-estimator-id-240\" class=\"sk-toggleable__label sk-toggleable__label-arrow\">StandardScaler</label><div class=\"sk-toggleable__content\"><pre>StandardScaler()</pre></div></div></div></div></div></div><div class=\"sk-parallel-item\"><div class=\"sk-item\"><div class=\"sk-label-container\"><div class=\"sk-label sk-toggleable\"><input class=\"sk-toggleable__control sk-hidden--visually\" id=\"sk-estimator-id-241\" type=\"checkbox\" ><label for=\"sk-estimator-id-241\" class=\"sk-toggleable__label sk-toggleable__label-arrow\">remainder</label><div class=\"sk-toggleable__content\"><pre></pre></div></div></div><div class=\"sk-serial\"><div class=\"sk-item\"><div class=\"sk-estimator sk-toggleable\"><input class=\"sk-toggleable__control sk-hidden--visually\" id=\"sk-estimator-id-242\" type=\"checkbox\" ><label for=\"sk-estimator-id-242\" class=\"sk-toggleable__label sk-toggleable__label-arrow\">passthrough</label><div class=\"sk-toggleable__content\"><pre>passthrough</pre></div></div></div></div></div></div></div></div><div class=\"sk-item\"><div class=\"sk-estimator sk-toggleable\"><input class=\"sk-toggleable__control sk-hidden--visually\" id=\"sk-estimator-id-243\" type=\"checkbox\" ><label for=\"sk-estimator-id-243\" class=\"sk-toggleable__label sk-toggleable__label-arrow\">LogisticRegression</label><div class=\"sk-toggleable__content\"><pre>LogisticRegression(class_weight={0: 1, 1: 2.77})</pre></div></div></div></div></div></div></div>"
      ],
      "text/plain": [
       "Pipeline(steps=[('tranformer',\n",
       "                 ColumnTransformer(remainder='passthrough',\n",
       "                                   transformers=[('onehot',\n",
       "                                                  OneHotEncoder(drop='first',\n",
       "                                                                handle_unknown='ignore'),\n",
       "                                                  ['InternetService',\n",
       "                                                   'OnlineSecurity',\n",
       "                                                   'OnlineBackup',\n",
       "                                                   'DeviceProtection',\n",
       "                                                   'TechSupport', 'StreamingTV',\n",
       "                                                   'StreamingMovies',\n",
       "                                                   'Contract',\n",
       "                                                   'PaperlessBilling',\n",
       "                                                   'PaymentMethod']),\n",
       "                                                 ('scaler', StandardScaler(),\n",
       "                                                  ['tenure', 'MonthlyCharges',\n",
       "                                                   'TotalCharges'])])),\n",
       "                ('classifier',\n",
       "                 LogisticRegression(class_weight={0: 1, 1: 2.77}))])"
      ]
     },
     "execution_count": 206,
     "metadata": {},
     "output_type": "execute_result"
    }
   ],
   "source": [
    "from sklearn.pipeline import Pipeline\n",
    "from sklearn.compose import ColumnTransformer\n",
    "from sklearn.linear_model import LogisticRegression\n",
    "from sklearn.preprocessing import StandardScaler,OneHotEncoder\n",
    "\n",
    "cat_cols=[col for col in train_data.columns if train_data[col].dtype== pl.String]\n",
    "num_cols=[col for col in train_data.drop(\"Churn\").columns if train_data[col].dtype!= pl.String]\n",
    "\n",
    "X_train=train_data.drop(\"Churn\").to_pandas()\n",
    "y_train=train_data[\"Churn\"].to_pandas()\n",
    "X_test=test_data.drop(\"Churn\").to_pandas()\n",
    "y_test=test_data[\"Churn\"].to_pandas()\n",
    "\n",
    "transformer = ColumnTransformer(\n",
    "    [\n",
    "        (\"onehot\", OneHotEncoder(handle_unknown=\"ignore\",drop='first'), cat_cols),\n",
    "        (\"scaler\", StandardScaler(), num_cols)\n",
    "     ],\n",
    "    remainder=\"passthrough\",\n",
    ")\n",
    "\n",
    "pipe = Pipeline(\n",
    "    [\n",
    "        (\"tranformer\", transformer),\n",
    "        (\"classifier\", LogisticRegression(class_weight={0:1,1:2.77})),\n",
    "    ]\n",
    ")\n",
    "pipe"
   ]
  },
  {
   "cell_type": "code",
   "execution_count": 207,
   "metadata": {},
   "outputs": [
    {
     "name": "stdout",
     "output_type": "stream",
     "text": [
      "Mean Train roc auc Score: 0.8463502224883079\n",
      "Standard Deviation of Train roc auc Scores: 0.0015995243034946502\n",
      "Mean Train recall Score: 0.804017094017094\n",
      "Standard Deviation of Train recall Scores: 0.004619339869015956\n",
      "\n",
      "Mean Test roc auc Score: 0.8442657208135047\n",
      "Standard Deviation of Test roc auc Scores: 0.014865916599670594\n",
      "Mean Test recall Score: 0.7984615384615384\n",
      "Standard Deviation of Test recall Scores: 0.032960438900967004\n"
     ]
    }
   ],
   "source": [
    "from sklearn.model_selection import cross_validate,StratifiedKFold\n",
    "skf = StratifiedKFold(n_splits=10,shuffle=True,random_state=42)\n",
    "\n",
    "cv_results = cross_validate(pipe, X_train,y_train, cv=skf, scoring=['recall','roc_auc'],n_jobs=-1,return_train_score=True,error_score=\"raise\")\n",
    "print(f'Mean Train roc auc Score: {cv_results[\"train_roc_auc\"].mean()}')\n",
    "print(f'Standard Deviation of Train roc auc Scores: {cv_results[\"train_roc_auc\"].std()}')\n",
    "print(f'Mean Train recall Score: {cv_results[\"train_recall\"].mean()}')\n",
    "print(f'Standard Deviation of Train recall Scores: {cv_results[\"train_recall\"].std()}\\n')\n",
    "\n",
    "print(f'Mean Test roc auc Score: {cv_results[\"test_roc_auc\"].mean()}')\n",
    "print(f'Standard Deviation of Test roc auc Scores: {cv_results[\"test_roc_auc\"].std()}')\n",
    "print(f'Mean Test recall Score: {cv_results[\"test_recall\"].mean()}')\n",
    "print(f'Standard Deviation of Test recall Scores: {cv_results[\"test_recall\"].std()}')"
   ]
  },
  {
   "cell_type": "code",
   "execution_count": 208,
   "metadata": {},
   "outputs": [
    {
     "name": "stdout",
     "output_type": "stream",
     "text": [
      "logistic regression accuracy : 0.7429928741092636\n",
      "auc roc 0.7654928581038137\n",
      "              precision    recall  f1-score   support\n",
      "\n",
      "         0.0       0.91      0.72      0.80      1548\n",
      "         1.0       0.51      0.81      0.63       557\n",
      "\n",
      "    accuracy                           0.74      2105\n",
      "   macro avg       0.71      0.77      0.72      2105\n",
      "weighted avg       0.81      0.74      0.76      2105\n",
      "\n"
     ]
    }
   ],
   "source": [
    "from sklearn.metrics import accuracy_score,classification_report,roc_curve,roc_auc_score\n",
    "from sklearn.model_selection import cross_val_predict\n",
    "predictions= cross_val_predict(pipe,X_test,y_test,cv=skf)\n",
    "print(\"logistic regression accuracy :\",accuracy_score(y_true=y_test,y_pred=predictions))\n",
    "print(\"auc roc\",roc_auc_score(y_test,predictions))\n",
    "print(classification_report(y_test,predictions))"
   ]
  },
  {
   "cell_type": "code",
   "execution_count": 209,
   "metadata": {},
   "outputs": [
    {
     "data": {
      "image/png": "[encoded data removed]",
      "text/plain": [
       "<Figure size 640x480 with 1 Axes>"
      ]
     },
     "metadata": {},
     "output_type": "display_data"
    }
   ],
   "source": [
    "def plot_roc_curve(fpr, tpr):\n",
    "    \"\"\"\n",
    "    Plots a ROC curve given the false positve rate (fpr) and \n",
    "    true postive rate (tpr) of a classifier.\n",
    "    \"\"\"\n",
    "    # Plot ROC curve\n",
    "    plt.plot(fpr, tpr, color='green', label='ROC')\n",
    "    \n",
    "    # Plot line with no predictive power (baseline)\n",
    "    plt.plot([0, 1], [0, 1], color='red', linestyle='--', label='Guess')\n",
    "    \n",
    "    # Customize the plot\n",
    "    plt.xlabel('False Positive Rate')\n",
    "    plt.ylabel('True Positive Rate')\n",
    "    plt.title('Receiver Operating Characteristic (ROC) Curve', fontsize=15)\n",
    "    plt.legend()\n",
    "    plt.show()\n",
    "fpr, tpr, thresholds=roc_curve(y_test,predictions)\n",
    "plot_roc_curve(fpr, tpr)"
   ]
  },
  {
   "cell_type": "code",
   "execution_count": 210,
   "metadata": {},
   "outputs": [
    {
     "data": {
      "text/plain": [
       "<sklearn.metrics._plot.confusion_matrix.ConfusionMatrixDisplay at 0x2d1c36e25b0>"
      ]
     },
     "execution_count": 210,
     "metadata": {},
     "output_type": "execute_result"
    },
    {
     "data": {
      "image/png": "[encoded data removed]",
      "text/plain": [
       "<Figure size 640x480 with 2 Axes>"
      ]
     },
     "metadata": {},
     "output_type": "display_data"
    }
   ],
   "source": [
    "from sklearn.metrics import ConfusionMatrixDisplay,confusion_matrix\n",
    "fig=ConfusionMatrixDisplay(confusion_matrix=confusion_matrix(y_test,predictions))\n",
    "fig.plot()"
   ]
  },
  {
   "cell_type": "code",
   "execution_count": 211,
   "metadata": {},
   "outputs": [
    {
     "name": "stdout",
     "output_type": "stream",
     "text": [
      "ROC AUC: 0.77\n",
      "F1 Score: 0.63\n",
      "Recall score: 0.81\n",
      "Accuracy: 0.74\n"
     ]
    }
   ],
   "source": [
    "from sklearn.metrics import roc_auc_score,f1_score,accuracy_score,recall_score\n",
    "# Evaluation\n",
    "roc_auc = roc_auc_score(y_test, predictions)\n",
    "f1 = f1_score(y_test, predictions)\n",
    "accuracy = accuracy_score(y_test, predictions)\n",
    "recall = recall_score(y_test,predictions)\n",
    "print(f\"ROC AUC: {roc_auc:.2f}\")\n",
    "print(f\"F1 Score: {f1:.2f}\")\n",
    "print(f\"Recall score: {recall:.2f}\")\n",
    "print(f\"Accuracy: {accuracy:.2f}\")"
   ]
  },
  {
   "cell_type": "markdown",
   "metadata": {},
   "source": [
    "80% of churners are identified 77 AUC"
   ]
  }
 ],
 "metadata": {
  "kernelspec": {
   "display_name": "eda",
   "language": "python",
   "name": "python3"
  },
  "language_info": {
   "codemirror_mode": {
    "name": "ipython",
    "version": 3
   },
   "file_extension": ".py",
   "mimetype": "text/x-python",
   "name": "python",
   "nbconvert_exporter": "python",
   "pygments_lexer": "ipython3",
   "version": "3.8.19"
  }
 },
 "nbformat": 4,
 "nbformat_minor": 2
}
