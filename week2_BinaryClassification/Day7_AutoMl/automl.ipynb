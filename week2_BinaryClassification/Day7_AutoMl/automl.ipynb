{
 "cells": [
  {
   "cell_type": "code",
   "execution_count": 10,
   "metadata": {},
   "outputs": [],
   "source": [
    "import evalml\n",
    "from evalml import AutoMLSearch"
   ]
  },
  {
   "cell_type": "code",
   "execution_count": 17,
   "metadata": {},
   "outputs": [
    {
     "name": "stdout",
     "output_type": "stream",
     "text": [
      "             Number of Features\n",
      "Categorical                   1\n",
      "Numeric                      16\n",
      "\n",
      "Number of training examples: 5611\n",
      "Targets\n",
      "0    73.52%\n",
      "1    26.48%\n",
      "Name: Churn, dtype: object\n",
      "             Number of Features\n",
      "Categorical                   1\n",
      "Numeric                      16\n",
      "\n",
      "Number of training examples: 1406\n",
      "Targets\n",
      "0    73.33%\n",
      "1    26.67%\n",
      "Name: Churn, dtype: object\n"
     ]
    }
   ],
   "source": [
    "from evalml.preprocessing import *\n",
    "X_train, y_train = load_data(\"train_featureEngineered.csv\",index=None,target=\"Churn\")\n",
    "X_test, y_test = load_data(\"test_featureEngineered.csv\",index=None,target=\"Churn\")"
   ]
  },
  {
   "cell_type": "code",
   "execution_count": 18,
   "metadata": {},
   "outputs": [
    {
     "data": {
      "text/plain": [
       "{1: {'Random Forest Classifier w/ Label Encoder + Drop Columns Transformer + Imputer + Oversampler + RF Classifier Select From Model': 3.455094337463379,\n",
       "  'Total time of batch': 3.5983636379241943},\n",
       " 2: {'Extra Trees Classifier w/ Label Encoder + Drop Columns Transformer + Imputer + Oversampler + Select Columns Transformer': 1.9980077743530273,\n",
       "  'Elastic Net Classifier w/ Label Encoder + Drop Columns Transformer + Imputer + Oversampler + Standard Scaler + Select Columns Transformer': 1.6029424667358398,\n",
       "  'Logistic Regression Classifier w/ Label Encoder + Drop Columns Transformer + Imputer + Oversampler + Standard Scaler + Select Columns Transformer': 4.229905366897583,\n",
       "  'Total time of batch': 8.275114059448242},\n",
       " 3: {'Random Forest Classifier w/ Label Encoder + Drop Columns Transformer + Imputer + Oversampler + Select Columns Transformer': 7.018799543380737,\n",
       "  'Elastic Net Classifier w/ Label Encoder + Drop Columns Transformer + Imputer + Oversampler + Standard Scaler + Select Columns Transformer': 1.9075465202331543,\n",
       "  'Extra Trees Classifier w/ Label Encoder + Drop Columns Transformer + Imputer + Oversampler + Select Columns Transformer': 3.965536594390869,\n",
       "  'Total time of batch': 167.93370056152344}}"
      ]
     },
     "execution_count": 18,
     "metadata": {},
     "output_type": "execute_result"
    }
   ],
   "source": [
    "automl = AutoMLSearch(X_train=X_train,y_train=y_train,problem_type=\"binary\",y_holdout=y_test,X_holdout=X_test,n_jobs=-1,holdout_set_size=0.25\n",
    "                      ,run_feature_selection=True,max_iterations=50,sampler_method=\"Oversampler\",sampler_balanced_ratio=0.4)\n",
    "automl.search()"
   ]
  },
  {
   "cell_type": "code",
   "execution_count": null,
   "metadata": {},
   "outputs": [
    {
     "data": {
      "text/html": [
       "<div>\n",
       "<style scoped>\n",
       "    .dataframe tbody tr th:only-of-type {\n",
       "        vertical-align: middle;\n",
       "    }\n",
       "\n",
       "    .dataframe tbody tr th {\n",
       "        vertical-align: top;\n",
       "    }\n",
       "\n",
       "    .dataframe thead th {\n",
       "        text-align: right;\n",
       "    }\n",
       "</style>\n",
       "<table border=\"1\" class=\"dataframe\">\n",
       "  <thead>\n",
       "    <tr style=\"text-align: right;\">\n",
       "      <th></th>\n",
       "      <th>id</th>\n",
       "      <th>pipeline_name</th>\n",
       "      <th>search_order</th>\n",
       "      <th>ranking_score</th>\n",
       "      <th>holdout_score</th>\n",
       "      <th>mean_cv_score</th>\n",
       "      <th>standard_deviation_cv_score</th>\n",
       "      <th>percent_better_than_baseline</th>\n",
       "      <th>high_variance_cv</th>\n",
       "      <th>parameters</th>\n",
       "    </tr>\n",
       "  </thead>\n",
       "  <tbody>\n",
       "    <tr>\n",
       "      <th>0</th>\n",
       "      <td>14</td>\n",
       "      <td>Elastic Net Classifier w/ Label Encoder + Sele...</td>\n",
       "      <td>14</td>\n",
       "      <td>0.410790</td>\n",
       "      <td>0.410790</td>\n",
       "      <td>0.419537</td>\n",
       "      <td>0.016709</td>\n",
       "      <td>95.613511</td>\n",
       "      <td>False</td>\n",
       "      <td>{'Label Encoder': {'positive_label': None}, 'N...</td>\n",
       "    </tr>\n",
       "    <tr>\n",
       "      <th>16</th>\n",
       "      <td>4</td>\n",
       "      <td>Logistic Regression Classifier w/ Label Encode...</td>\n",
       "      <td>4</td>\n",
       "      <td>0.410963</td>\n",
       "      <td>0.410963</td>\n",
       "      <td>0.419663</td>\n",
       "      <td>0.016825</td>\n",
       "      <td>95.612192</td>\n",
       "      <td>False</td>\n",
       "      <td>{'Label Encoder': {'positive_label': None}, 'N...</td>\n",
       "    </tr>\n",
       "    <tr>\n",
       "      <th>17</th>\n",
       "      <td>18</td>\n",
       "      <td>Random Forest Classifier w/ Label Encoder + Se...</td>\n",
       "      <td>18</td>\n",
       "      <td>0.417004</td>\n",
       "      <td>0.417004</td>\n",
       "      <td>0.419466</td>\n",
       "      <td>0.018098</td>\n",
       "      <td>95.614256</td>\n",
       "      <td>False</td>\n",
       "      <td>{'Label Encoder': {'positive_label': None}, 'N...</td>\n",
       "    </tr>\n",
       "    <tr>\n",
       "      <th>21</th>\n",
       "      <td>1</td>\n",
       "      <td>Random Forest Classifier w/ Label Encoder + Dr...</td>\n",
       "      <td>1</td>\n",
       "      <td>0.418176</td>\n",
       "      <td>0.418176</td>\n",
       "      <td>0.421198</td>\n",
       "      <td>0.016746</td>\n",
       "      <td>95.596139</td>\n",
       "      <td>False</td>\n",
       "      <td>{'Label Encoder': {'positive_label': None}, 'D...</td>\n",
       "    </tr>\n",
       "    <tr>\n",
       "      <th>29</th>\n",
       "      <td>40</td>\n",
       "      <td>Extra Trees Classifier w/ Label Encoder + Sele...</td>\n",
       "      <td>40</td>\n",
       "      <td>0.427095</td>\n",
       "      <td>0.427095</td>\n",
       "      <td>0.429609</td>\n",
       "      <td>0.019419</td>\n",
       "      <td>95.508207</td>\n",
       "      <td>False</td>\n",
       "      <td>{'Label Encoder': {'positive_label': None}, 'N...</td>\n",
       "    </tr>\n",
       "    <tr>\n",
       "      <th>49</th>\n",
       "      <td>0</td>\n",
       "      <td>Mode Baseline Binary Classification Pipeline</td>\n",
       "      <td>0</td>\n",
       "      <td>9.567300</td>\n",
       "      <td>9.567300</td>\n",
       "      <td>9.564299</td>\n",
       "      <td>0.011081</td>\n",
       "      <td>0.000000</td>\n",
       "      <td>False</td>\n",
       "      <td>{'Label Encoder': {'positive_label': None}, 'B...</td>\n",
       "    </tr>\n",
       "  </tbody>\n",
       "</table>\n",
       "</div>"
      ],
      "text/plain": [
       "    id                                      pipeline_name  search_order  \\\n",
       "0   14  Elastic Net Classifier w/ Label Encoder + Sele...            14   \n",
       "16   4  Logistic Regression Classifier w/ Label Encode...             4   \n",
       "17  18  Random Forest Classifier w/ Label Encoder + Se...            18   \n",
       "21   1  Random Forest Classifier w/ Label Encoder + Dr...             1   \n",
       "29  40  Extra Trees Classifier w/ Label Encoder + Sele...            40   \n",
       "49   0       Mode Baseline Binary Classification Pipeline             0   \n",
       "\n",
       "    ranking_score  holdout_score  mean_cv_score  standard_deviation_cv_score  \\\n",
       "0        0.410790       0.410790       0.419537                     0.016709   \n",
       "16       0.410963       0.410963       0.419663                     0.016825   \n",
       "17       0.417004       0.417004       0.419466                     0.018098   \n",
       "21       0.418176       0.418176       0.421198                     0.016746   \n",
       "29       0.427095       0.427095       0.429609                     0.019419   \n",
       "49       9.567300       9.567300       9.564299                     0.011081   \n",
       "\n",
       "    percent_better_than_baseline  high_variance_cv  \\\n",
       "0                      95.613511             False   \n",
       "16                     95.612192             False   \n",
       "17                     95.614256             False   \n",
       "21                     95.596139             False   \n",
       "29                     95.508207             False   \n",
       "49                      0.000000             False   \n",
       "\n",
       "                                           parameters  \n",
       "0   {'Label Encoder': {'positive_label': None}, 'N...  \n",
       "16  {'Label Encoder': {'positive_label': None}, 'N...  \n",
       "17  {'Label Encoder': {'positive_label': None}, 'N...  \n",
       "21  {'Label Encoder': {'positive_label': None}, 'D...  \n",
       "29  {'Label Encoder': {'positive_label': None}, 'N...  \n",
       "49  {'Label Encoder': {'positive_label': None}, 'B...  "
      ]
     },
     "execution_count": 6,
     "metadata": {},
     "output_type": "execute_result"
    }
   ],
   "source": [
    "automl.rankings"
   ]
  },
  {
   "cell_type": "code",
   "execution_count": null,
   "metadata": {},
   "outputs": [
    {
     "name": "stdout",
     "output_type": "stream",
     "text": [
      "\n",
      "****************************************************************************************************************************************************\n",
      "* Random Forest Classifier w/ Label Encoder + Drop Columns Transformer + Imputer + One Hot Encoder + Oversampler + RF Classifier Select From Model *\n",
      "****************************************************************************************************************************************************\n",
      "\n",
      "Problem Type: binary\n",
      "Model Family: Random Forest\n",
      "\n",
      "Pipeline Steps\n",
      "==============\n",
      "1. Label Encoder\n",
      "\t * positive_label : None\n",
      "2. Drop Columns Transformer\n",
      "\t * columns : ['customerID']\n",
      "3. Imputer\n",
      "\t * categorical_impute_strategy : most_frequent\n",
      "\t * numeric_impute_strategy : mean\n",
      "\t * boolean_impute_strategy : most_frequent\n",
      "\t * categorical_fill_value : None\n",
      "\t * numeric_fill_value : None\n",
      "\t * boolean_fill_value : None\n",
      "4. One Hot Encoder\n",
      "\t * top_n : 10\n",
      "\t * features_to_encode : None\n",
      "\t * categories : None\n",
      "\t * drop : if_binary\n",
      "\t * handle_unknown : ignore\n",
      "\t * handle_missing : error\n",
      "5. Oversampler\n",
      "\t * sampling_ratio : 0.4\n",
      "\t * k_neighbors_default : 5\n",
      "\t * n_jobs : -1\n",
      "\t * sampling_ratio_dict : None\n",
      "\t * categorical_features : [1, 2, 4, 5, 8, 9, 10, 11, 12, 13, 14, 15, 16, 17, 18, 19, 20, 21, 22, 23, 24, 25, 26, 27, 28, 29, 30, 31, 32, 33, 34, 35, 36, 37, 38, 39]\n",
      "\t * k_neighbors : 5\n",
      "6. RF Classifier Select From Model\n",
      "\t * number_features : None\n",
      "\t * n_estimators : 10\n",
      "\t * max_depth : None\n",
      "\t * percent_features : 0.5\n",
      "\t * threshold : median\n",
      "\t * n_jobs : -1\n",
      "7. Random Forest Classifier\n",
      "\t * n_estimators : 100\n",
      "\t * max_depth : 6\n",
      "\t * n_jobs : -1\n",
      "\n",
      "Training\n",
      "========\n",
      "Training for binary problems.\n",
      "Total training time (including CV): 7.3 seconds\n",
      "\n",
      "Cross Validation\n",
      "----------------\n",
      "             Log Loss Binary  MCC Binary  Gini   AUC  Precision    F1  Balanced Accuracy Binary  Accuracy Binary # Training # Validation\n",
      "0                      0.423       0.467 0.682 0.841      0.529 0.623                     0.757            0.757      3,756        1,878\n",
      "1                      0.437       0.449 0.651 0.825      0.565 0.604                     0.734            0.774      3,756        1,878\n",
      "2                      0.404       0.516 0.722 0.861      0.557 0.656                     0.784            0.777      3,756        1,878\n",
      "mean                   0.421       0.478 0.685 0.842      0.550 0.627                     0.758            0.769          -            -\n",
      "std                    0.017       0.035 0.036 0.018      0.019 0.026                     0.025            0.011          -            -\n",
      "coef of var            0.040       0.073 0.052 0.021      0.034 0.042                     0.033            0.015          -            -\n"
     ]
    }
   ],
   "source": [
    "automl.describe_pipeline(1)"
   ]
  },
  {
   "cell_type": "code",
   "execution_count": 20,
   "metadata": {},
   "outputs": [],
   "source": [
    "pipeline = automl.get_pipeline(14)\n",
    "pipeline.fit(X_train,y_train)\n",
    "score=pipeline.score(X_test, y_test, [\"recall\",'f1','auc','precision'])"
   ]
  },
  {
   "cell_type": "code",
   "execution_count": 21,
   "metadata": {},
   "outputs": [
    {
     "data": {
      "text/plain": [
       "OrderedDict([('Recall', 0.4613333333333333),\n",
       "             ('F1', 0.5518341307814992),\n",
       "             ('AUC', 0.8517452311671516),\n",
       "             ('Precision', 0.6865079365079365)])"
      ]
     },
     "execution_count": 21,
     "metadata": {},
     "output_type": "execute_result"
    }
   ],
   "source": [
    "score"
   ]
  },
  {
   "cell_type": "code",
   "execution_count": null,
   "metadata": {},
   "outputs": [],
   "source": []
  }
 ],
 "metadata": {
  "kernelspec": {
   "display_name": "evalml",
   "language": "python",
   "name": "python3"
  },
  "language_info": {
   "codemirror_mode": {
    "name": "ipython",
    "version": 3
   },
   "file_extension": ".py",
   "mimetype": "text/x-python",
   "name": "python",
   "nbconvert_exporter": "python",
   "pygments_lexer": "ipython3",
   "version": "3.9.19"
  }
 },
 "nbformat": 4,
 "nbformat_minor": 2
}
