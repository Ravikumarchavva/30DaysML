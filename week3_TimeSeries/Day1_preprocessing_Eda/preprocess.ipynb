{
 "cells": [
  {
   "cell_type": "code",
   "execution_count": 1,
   "metadata": {},
   "outputs": [],
   "source": [
    "import sys\n",
    "sys.path.append(\"../../\")\n",
    "import warnings\n",
    "warnings.simplefilter(action=\"ignore\")\n",
    "import numpy as np\n",
    "import seaborn as sns\n",
    "import pandas as pd\n",
    "import polars as pl\n",
    "import plotly.express as px\n",
    "from functions.eda import *\n",
    "from functions.cat_eda import *\n",
    "from functions.basic_cleaning import *\n",
    "from functions.num_eda import *\n",
    "from functions.pipeline_helpers import *"
   ]
  },
  {
   "cell_type": "code",
   "execution_count": 4,
   "metadata": {},
   "outputs": [
    {
     "data": {
      "text/html": [
       "<div><style>\n",
       ".dataframe > thead > tr,\n",
       ".dataframe > tbody > tr {\n",
       "  text-align: right;\n",
       "  white-space: pre-wrap;\n",
       "}\n",
       "</style>\n",
       "<small>shape: (3_008, 6)</small><table border=\"1\" class=\"dataframe\"><thead><tr><th>index</th><th>Format</th><th>Metric</th><th>Year</th><th>Number of Records</th><th>Value (Actual)</th></tr><tr><td>i64</td><td>str</td><td>str</td><td>i64</td><td>i64</td><td>f64</td></tr></thead><tbody><tr><td>0</td><td>&quot;CD&quot;</td><td>&quot;Units&quot;</td><td>1973</td><td>1</td><td>null</td></tr><tr><td>1</td><td>&quot;CD&quot;</td><td>&quot;Units&quot;</td><td>1974</td><td>1</td><td>null</td></tr><tr><td>2</td><td>&quot;CD&quot;</td><td>&quot;Units&quot;</td><td>1975</td><td>1</td><td>null</td></tr><tr><td>3</td><td>&quot;CD&quot;</td><td>&quot;Units&quot;</td><td>1976</td><td>1</td><td>null</td></tr><tr><td>4</td><td>&quot;CD&quot;</td><td>&quot;Units&quot;</td><td>1977</td><td>1</td><td>null</td></tr><tr><td>&hellip;</td><td>&hellip;</td><td>&hellip;</td><td>&hellip;</td><td>&hellip;</td><td>&hellip;</td></tr><tr><td>3003</td><td>&quot;Vinyl Single&quot;</td><td>&quot;Value (Adjusted)&quot;</td><td>2015</td><td>1</td><td>6.20539</td></tr><tr><td>3004</td><td>&quot;Vinyl Single&quot;</td><td>&quot;Value (Adjusted)&quot;</td><td>2016</td><td>1</td><td>5.198931</td></tr><tr><td>3005</td><td>&quot;Vinyl Single&quot;</td><td>&quot;Value (Adjusted)&quot;</td><td>2017</td><td>1</td><td>6.339678</td></tr><tr><td>3006</td><td>&quot;Vinyl Single&quot;</td><td>&quot;Value (Adjusted)&quot;</td><td>2018</td><td>1</td><td>5.386197</td></tr><tr><td>3007</td><td>&quot;Vinyl Single&quot;</td><td>&quot;Value (Adjusted)&quot;</td><td>2019</td><td>1</td><td>6.795946</td></tr></tbody></table></div>"
      ],
      "text/plain": [
       "shape: (3_008, 6)\n",
       "┌───────┬──────────────┬──────────────────┬──────┬───────────────────┬────────────────┐\n",
       "│ index ┆ Format       ┆ Metric           ┆ Year ┆ Number of Records ┆ Value (Actual) │\n",
       "│ ---   ┆ ---          ┆ ---              ┆ ---  ┆ ---               ┆ ---            │\n",
       "│ i64   ┆ str          ┆ str              ┆ i64  ┆ i64               ┆ f64            │\n",
       "╞═══════╪══════════════╪══════════════════╪══════╪═══════════════════╪════════════════╡\n",
       "│ 0     ┆ CD           ┆ Units            ┆ 1973 ┆ 1                 ┆ null           │\n",
       "│ 1     ┆ CD           ┆ Units            ┆ 1974 ┆ 1                 ┆ null           │\n",
       "│ 2     ┆ CD           ┆ Units            ┆ 1975 ┆ 1                 ┆ null           │\n",
       "│ 3     ┆ CD           ┆ Units            ┆ 1976 ┆ 1                 ┆ null           │\n",
       "│ 4     ┆ CD           ┆ Units            ┆ 1977 ┆ 1                 ┆ null           │\n",
       "│ …     ┆ …            ┆ …                ┆ …    ┆ …                 ┆ …              │\n",
       "│ 3003  ┆ Vinyl Single ┆ Value (Adjusted) ┆ 2015 ┆ 1                 ┆ 6.20539        │\n",
       "│ 3004  ┆ Vinyl Single ┆ Value (Adjusted) ┆ 2016 ┆ 1                 ┆ 5.198931       │\n",
       "│ 3005  ┆ Vinyl Single ┆ Value (Adjusted) ┆ 2017 ┆ 1                 ┆ 6.339678       │\n",
       "│ 3006  ┆ Vinyl Single ┆ Value (Adjusted) ┆ 2018 ┆ 1                 ┆ 5.386197       │\n",
       "│ 3007  ┆ Vinyl Single ┆ Value (Adjusted) ┆ 2019 ┆ 1                 ┆ 6.795946       │\n",
       "└───────┴──────────────┴──────────────────┴──────┴───────────────────┴────────────────┘"
      ]
     },
     "execution_count": 4,
     "metadata": {},
     "output_type": "execute_result"
    }
   ],
   "source": [
    "data = pl.read_csv('MusicData.csv')\n",
    "data"
   ]
  },
  {
   "cell_type": "code",
   "execution_count": 5,
   "metadata": {},
   "outputs": [
    {
     "data": {
      "text/html": [
       "<div><style>\n",
       ".dataframe > thead > tr,\n",
       ".dataframe > tbody > tr {\n",
       "  text-align: right;\n",
       "  white-space: pre-wrap;\n",
       "}\n",
       "</style>\n",
       "<small>shape: (1_351, 6)</small><table border=\"1\" class=\"dataframe\"><thead><tr><th>index</th><th>Format</th><th>Metric</th><th>Year</th><th>Number of Records</th><th>Value (Actual)</th></tr><tr><td>i64</td><td>str</td><td>str</td><td>i64</td><td>i64</td><td>f64</td></tr></thead><tbody><tr><td>10</td><td>&quot;CD&quot;</td><td>&quot;Units&quot;</td><td>1983</td><td>1</td><td>0.8</td></tr><tr><td>11</td><td>&quot;CD&quot;</td><td>&quot;Units&quot;</td><td>1984</td><td>1</td><td>5.8</td></tr><tr><td>12</td><td>&quot;CD&quot;</td><td>&quot;Units&quot;</td><td>1985</td><td>1</td><td>22.6</td></tr><tr><td>13</td><td>&quot;CD&quot;</td><td>&quot;Units&quot;</td><td>1986</td><td>1</td><td>53.0</td></tr><tr><td>14</td><td>&quot;CD&quot;</td><td>&quot;Units&quot;</td><td>1987</td><td>1</td><td>102.1</td></tr><tr><td>&hellip;</td><td>&hellip;</td><td>&hellip;</td><td>&hellip;</td><td>&hellip;</td><td>&hellip;</td></tr><tr><td>3003</td><td>&quot;Vinyl Single&quot;</td><td>&quot;Value (Adjusted)&quot;</td><td>2015</td><td>1</td><td>6.20539</td></tr><tr><td>3004</td><td>&quot;Vinyl Single&quot;</td><td>&quot;Value (Adjusted)&quot;</td><td>2016</td><td>1</td><td>5.198931</td></tr><tr><td>3005</td><td>&quot;Vinyl Single&quot;</td><td>&quot;Value (Adjusted)&quot;</td><td>2017</td><td>1</td><td>6.339678</td></tr><tr><td>3006</td><td>&quot;Vinyl Single&quot;</td><td>&quot;Value (Adjusted)&quot;</td><td>2018</td><td>1</td><td>5.386197</td></tr><tr><td>3007</td><td>&quot;Vinyl Single&quot;</td><td>&quot;Value (Adjusted)&quot;</td><td>2019</td><td>1</td><td>6.795946</td></tr></tbody></table></div>"
      ],
      "text/plain": [
       "shape: (1_351, 6)\n",
       "┌───────┬──────────────┬──────────────────┬──────┬───────────────────┬────────────────┐\n",
       "│ index ┆ Format       ┆ Metric           ┆ Year ┆ Number of Records ┆ Value (Actual) │\n",
       "│ ---   ┆ ---          ┆ ---              ┆ ---  ┆ ---               ┆ ---            │\n",
       "│ i64   ┆ str          ┆ str              ┆ i64  ┆ i64               ┆ f64            │\n",
       "╞═══════╪══════════════╪══════════════════╪══════╪═══════════════════╪════════════════╡\n",
       "│ 10    ┆ CD           ┆ Units            ┆ 1983 ┆ 1                 ┆ 0.8            │\n",
       "│ 11    ┆ CD           ┆ Units            ┆ 1984 ┆ 1                 ┆ 5.8            │\n",
       "│ 12    ┆ CD           ┆ Units            ┆ 1985 ┆ 1                 ┆ 22.6           │\n",
       "│ 13    ┆ CD           ┆ Units            ┆ 1986 ┆ 1                 ┆ 53.0           │\n",
       "│ 14    ┆ CD           ┆ Units            ┆ 1987 ┆ 1                 ┆ 102.1          │\n",
       "│ …     ┆ …            ┆ …                ┆ …    ┆ …                 ┆ …              │\n",
       "│ 3003  ┆ Vinyl Single ┆ Value (Adjusted) ┆ 2015 ┆ 1                 ┆ 6.20539        │\n",
       "│ 3004  ┆ Vinyl Single ┆ Value (Adjusted) ┆ 2016 ┆ 1                 ┆ 5.198931       │\n",
       "│ 3005  ┆ Vinyl Single ┆ Value (Adjusted) ┆ 2017 ┆ 1                 ┆ 6.339678       │\n",
       "│ 3006  ┆ Vinyl Single ┆ Value (Adjusted) ┆ 2018 ┆ 1                 ┆ 5.386197       │\n",
       "│ 3007  ┆ Vinyl Single ┆ Value (Adjusted) ┆ 2019 ┆ 1                 ┆ 6.795946       │\n",
       "└───────┴──────────────┴──────────────────┴──────┴───────────────────┴────────────────┘"
      ]
     },
     "execution_count": 5,
     "metadata": {},
     "output_type": "execute_result"
    }
   ],
   "source": [
    "data.drop_nulls()"
   ]
  },
  {
   "cell_type": "code",
   "execution_count": null,
   "metadata": {},
   "outputs": [],
   "source": []
  }
 ],
 "metadata": {
  "kernelspec": {
   "display_name": "eda",
   "language": "python",
   "name": "python3"
  },
  "language_info": {
   "codemirror_mode": {
    "name": "ipython",
    "version": 3
   },
   "file_extension": ".py",
   "mimetype": "text/x-python",
   "name": "python",
   "nbconvert_exporter": "python",
   "pygments_lexer": "ipython3",
   "version": "3.8.19"
  }
 },
 "nbformat": 4,
 "nbformat_minor": 2
}
