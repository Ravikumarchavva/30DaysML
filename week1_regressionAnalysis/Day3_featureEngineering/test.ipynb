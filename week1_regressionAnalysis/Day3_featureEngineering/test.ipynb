{
 "cells": [
  {
   "cell_type": "code",
   "execution_count": 6,
   "metadata": {},
   "outputs": [],
   "source": [
    "import pandas as pd\n",
    "import numpy as np\n",
    "from sklearn.preprocessing import StandardScaler, OneHotEncoder\n",
    "from sklearn.compose import ColumnTransformer\n",
    "from sklearn.pipeline import Pipeline\n",
    "\n",
    "# Assuming df is your dataframe\n",
    "train_data=pd.read_csv(\"train_preprocessed.csv\")\n",
    "test_data=pd.read_csv(\"test_preprocessed.csv\")\n",
    "\n",
    "df=train_data.combine_first(test_data)\n",
    "# Log-transform skewed numerical features\n",
    "df['log_horsepower'] = np.log(df['horsepower'])\n",
    "df['log_enginesize'] = np.log(df['enginesize'])\n",
    "df['log_curbweight'] = np.log(df['curbweight'])\n",
    "\n",
    "# Interaction terms\n",
    "df['horsepower_enginesize'] = df['horsepower'] * df['enginesize']\n",
    "df['curbweight_carheight'] = df['curbweight'] * df['carheight']\n",
    "df['wheelbase_length_width'] = df['wheelbase'] * df['carlength'] * df['carwidth']\n",
    "df['engine_complex'] = df['boreratio'] * df['stroke'] * df['compressionratio']\n",
    "\n",
    "# Polynomial features\n",
    "df['horsepower_squared'] = df['horsepower'] ** 2\n",
    "df['enginesize_squared'] = df['enginesize'] ** 2\n",
    "df['carheight_squared'] = df['carheight'] ** 2\n",
    "df['carwidth_squared'] = df['carwidth'] ** 2\n",
    "df['curbweight_squared'] = df['curbweight'] ** 2\n",
    "\n",
    "# Fuel efficiency metric\n",
    "df['average_mpg'] = (df['citympg'] + df['highwaympg']) / 2\n",
    "\n",
    "# One-hot encode categorical variables\n",
    "df = pd.get_dummies(df, columns=['drivewheel', 'enginelocation', 'symboling'], drop_first=True)\n",
    "\n",
    "# Standardize numerical features\n",
    "scaler = StandardScaler()\n",
    "numerical_features = ['wheelbase', 'carlength', 'carwidth', 'carheight', 'curbweight', 'enginesize', 'boreratio', 'stroke', 'compressionratio', 'horsepower', 'peakrpm', 'citympg', 'highwaympg', 'brandavg', 'log_horsepower', 'log_enginesize', 'log_curbweight', 'horsepower_enginesize', 'curbweight_carheight', 'wheelbase_length_width', 'engine_complex', 'horsepower_squared', 'enginesize_squared', 'carheight_squared', 'carwidth_squared', 'curbweight_squared', 'average_mpg']\n",
    "df[numerical_features] = scaler.fit_transform(df[numerical_features])\n",
    "\n",
    "# The df now contains the engineered features\n"
   ]
  },
  {
   "cell_type": "code",
   "execution_count": 13,
   "metadata": {},
   "outputs": [
    {
     "data": {
      "text/plain": [
       "price                     1.000000\n",
       "horsepower_enginesize     0.918372\n",
       "enginesize                0.898726\n",
       "brandavg                  0.891223\n",
       "enginesize_squared        0.878693\n",
       "log_enginesize            0.870582\n",
       "horsepower_squared        0.846073\n",
       "curbweight_squared        0.845796\n",
       "horsepower                0.832665\n",
       "curbweight                0.828523\n",
       "cylindernumber            0.804266\n",
       "log_curbweight            0.801185\n",
       "log_horsepower            0.792875\n",
       "curbweight_carheight      0.792581\n",
       "carwidth_squared          0.752913\n",
       "carwidth                  0.748764\n",
       "wheelbase_length_width    0.722638\n",
       "carlength                 0.701202\n",
       "drivewheel_1              0.651069\n",
       "wheelbase                 0.612687\n",
       "boreratio                 0.566276\n",
       "enginelocation_1          0.330171\n",
       "symboling_3               0.188225\n",
       "carheight                 0.187869\n",
       "carheight_squared         0.187385\n",
       "symboling_0               0.148647\n",
       "symboling_-1              0.146695\n",
       "stroke                    0.079915\n",
       "engine_complex            0.076609\n",
       "compressionratio         -0.062017\n",
       "peakrpm                  -0.062020\n",
       "car_ID                   -0.118722\n",
       "symboling_2              -0.165699\n",
       "symboling_1              -0.271339\n",
       "citympg                  -0.695437\n",
       "average_mpg              -0.705023\n",
       "highwaympg               -0.706357\n",
       "Name: price, dtype: float64"
      ]
     },
     "execution_count": 13,
     "metadata": {},
     "output_type": "execute_result"
    }
   ],
   "source": [
    "df.corr(numeric_only=True)['price'].sort_values(ascending=False)"
   ]
  },
  {
   "cell_type": "code",
   "execution_count": null,
   "metadata": {},
   "outputs": [],
   "source": []
  }
 ],
 "metadata": {
  "kernelspec": {
   "display_name": "eda",
   "language": "python",
   "name": "python3"
  },
  "language_info": {
   "codemirror_mode": {
    "name": "ipython",
    "version": 3
   },
   "file_extension": ".py",
   "mimetype": "text/x-python",
   "name": "python",
   "nbconvert_exporter": "python",
   "pygments_lexer": "ipython3",
   "version": "3.8.19"
  }
 },
 "nbformat": 4,
 "nbformat_minor": 2
}
