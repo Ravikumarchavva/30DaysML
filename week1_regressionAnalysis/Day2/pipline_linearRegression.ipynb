{
 "cells": [
  {
   "cell_type": "code",
   "execution_count": 18,
   "metadata": {},
   "outputs": [],
   "source": [
    "import numpy as np\n",
    "import seaborn as sns\n",
    "import pandas as pd\n",
    "import polars as pl\n",
    "from functions.eda import *\n",
    "from functions.cat_eda import *\n",
    "from functions.num_eda import *"
   ]
  },
  {
   "cell_type": "code",
   "execution_count": 19,
   "metadata": {},
   "outputs": [
    {
     "data": {
      "text/html": [
       "<div><style>\n",
       ".dataframe > thead > tr,\n",
       ".dataframe > tbody > tr {\n",
       "  text-align: right;\n",
       "  white-space: pre-wrap;\n",
       "}\n",
       "</style>\n",
       "<small>shape: (5, 24)</small><table border=\"1\" class=\"dataframe\"><thead><tr><th>symboling</th><th>fueltype</th><th>aspiration</th><th>doornumber</th><th>carbody</th><th>drivewheel</th><th>enginelocation</th><th>wheelbase</th><th>carlength</th><th>carwidth</th><th>carheight</th><th>curbweight</th><th>enginetype</th><th>cylindernumber</th><th>enginesize</th><th>fuelsystem</th><th>boreratio</th><th>stroke</th><th>compressionratio</th><th>horsepower</th><th>peakrpm</th><th>citympg</th><th>highwaympg</th><th>price</th></tr><tr><td>i64</td><td>str</td><td>str</td><td>str</td><td>str</td><td>str</td><td>str</td><td>f64</td><td>f64</td><td>f64</td><td>f64</td><td>i64</td><td>str</td><td>str</td><td>i64</td><td>str</td><td>f64</td><td>f64</td><td>f64</td><td>i64</td><td>i64</td><td>i64</td><td>i64</td><td>f64</td></tr></thead><tbody><tr><td>3</td><td>&quot;gas&quot;</td><td>&quot;std&quot;</td><td>&quot;two&quot;</td><td>&quot;convertible&quot;</td><td>&quot;rwd&quot;</td><td>&quot;front&quot;</td><td>88.6</td><td>168.8</td><td>64.1</td><td>48.8</td><td>2548</td><td>&quot;dohc&quot;</td><td>&quot;four&quot;</td><td>130</td><td>&quot;mpfi&quot;</td><td>3.47</td><td>2.68</td><td>9.0</td><td>111</td><td>5000</td><td>21</td><td>27</td><td>13495.0</td></tr><tr><td>3</td><td>&quot;gas&quot;</td><td>&quot;std&quot;</td><td>&quot;two&quot;</td><td>&quot;convertible&quot;</td><td>&quot;rwd&quot;</td><td>&quot;front&quot;</td><td>88.6</td><td>168.8</td><td>64.1</td><td>48.8</td><td>2548</td><td>&quot;dohc&quot;</td><td>&quot;four&quot;</td><td>130</td><td>&quot;mpfi&quot;</td><td>3.47</td><td>2.68</td><td>9.0</td><td>111</td><td>5000</td><td>21</td><td>27</td><td>16500.0</td></tr><tr><td>1</td><td>&quot;gas&quot;</td><td>&quot;std&quot;</td><td>&quot;two&quot;</td><td>&quot;hatchback&quot;</td><td>&quot;rwd&quot;</td><td>&quot;front&quot;</td><td>94.5</td><td>171.2</td><td>65.5</td><td>52.4</td><td>2823</td><td>&quot;ohcv&quot;</td><td>&quot;six&quot;</td><td>152</td><td>&quot;mpfi&quot;</td><td>2.68</td><td>3.47</td><td>9.0</td><td>154</td><td>5000</td><td>19</td><td>26</td><td>16500.0</td></tr><tr><td>2</td><td>&quot;gas&quot;</td><td>&quot;std&quot;</td><td>&quot;four&quot;</td><td>&quot;sedan&quot;</td><td>&quot;fwd&quot;</td><td>&quot;front&quot;</td><td>99.8</td><td>176.6</td><td>66.2</td><td>54.3</td><td>2337</td><td>&quot;ohc&quot;</td><td>&quot;four&quot;</td><td>109</td><td>&quot;mpfi&quot;</td><td>3.19</td><td>3.4</td><td>10.0</td><td>102</td><td>5500</td><td>24</td><td>30</td><td>13950.0</td></tr><tr><td>2</td><td>&quot;gas&quot;</td><td>&quot;std&quot;</td><td>&quot;four&quot;</td><td>&quot;sedan&quot;</td><td>&quot;4wd&quot;</td><td>&quot;front&quot;</td><td>99.4</td><td>176.6</td><td>66.4</td><td>54.3</td><td>2824</td><td>&quot;ohc&quot;</td><td>&quot;five&quot;</td><td>136</td><td>&quot;mpfi&quot;</td><td>3.19</td><td>3.4</td><td>8.0</td><td>115</td><td>5500</td><td>18</td><td>22</td><td>17450.0</td></tr></tbody></table></div>"
      ],
      "text/plain": [
       "shape: (5, 24)\n",
       "┌───────────┬──────────┬────────────┬────────────┬───┬─────────┬─────────┬────────────┬─────────┐\n",
       "│ symboling ┆ fueltype ┆ aspiration ┆ doornumber ┆ … ┆ peakrpm ┆ citympg ┆ highwaympg ┆ price   │\n",
       "│ ---       ┆ ---      ┆ ---        ┆ ---        ┆   ┆ ---     ┆ ---     ┆ ---        ┆ ---     │\n",
       "│ i64       ┆ str      ┆ str        ┆ str        ┆   ┆ i64     ┆ i64     ┆ i64        ┆ f64     │\n",
       "╞═══════════╪══════════╪════════════╪════════════╪═══╪═════════╪═════════╪════════════╪═════════╡\n",
       "│ 3         ┆ gas      ┆ std        ┆ two        ┆ … ┆ 5000    ┆ 21      ┆ 27         ┆ 13495.0 │\n",
       "│ 3         ┆ gas      ┆ std        ┆ two        ┆ … ┆ 5000    ┆ 21      ┆ 27         ┆ 16500.0 │\n",
       "│ 1         ┆ gas      ┆ std        ┆ two        ┆ … ┆ 5000    ┆ 19      ┆ 26         ┆ 16500.0 │\n",
       "│ 2         ┆ gas      ┆ std        ┆ four       ┆ … ┆ 5500    ┆ 24      ┆ 30         ┆ 13950.0 │\n",
       "│ 2         ┆ gas      ┆ std        ┆ four       ┆ … ┆ 5500    ┆ 18      ┆ 22         ┆ 17450.0 │\n",
       "└───────────┴──────────┴────────────┴────────────┴───┴─────────┴─────────┴────────────┴─────────┘"
      ]
     },
     "execution_count": 19,
     "metadata": {},
     "output_type": "execute_result"
    }
   ],
   "source": [
    "data=pl.read_csv(\"CarPrice_Assignment.csv\").drop([\"car_ID\",\"CarName\"])\n",
    "data.head()"
   ]
  },
  {
   "cell_type": "code",
   "execution_count": 20,
   "metadata": {},
   "outputs": [],
   "source": [
    "from sklearn.preprocessing import StandardScaler, OneHotEncoder\n",
    "from sklearn.impute import SimpleImputer\n",
    "from sklearn.compose import ColumnTransformer\n",
    "from sklearn.pipeline import Pipeline\n",
    "from sklearn.linear_model import LinearRegression\n",
    "from sklearn.model_selection import train_test_split\n",
    "from sklearn.metrics import r2_score\n",
    "import numpy as np\n",
    "import pandas as pd\n",
    "import matplotlib.pyplot as plt\n",
    "from scipy import stats\n",
    "\n",
    "cat_cols=[col for col in data.columns if data[col].dtype== pl.String]\n",
    "num_cols=[col for col in data.drop(\"price\").columns if data[col].dtype!= pl.String]\n",
    "numerical_pipeline = Pipeline([\n",
    "    ('imputer', SimpleImputer(strategy='mean')),\n",
    "    ('scaler', StandardScaler())\n",
    "])\n",
    "\n",
    "categorical_pipeline = Pipeline([\n",
    "    ('imputer', SimpleImputer(strategy='most_frequent')),\n",
    "    ('onehot', OneHotEncoder(handle_unknown='ignore'))\n",
    "])\n",
    "\n",
    "preprocessor = ColumnTransformer([\n",
    "    ('num', numerical_pipeline, num_cols),\n",
    "    ('cat', categorical_pipeline, cat_cols)\n",
    "])\n",
    "\n",
    "X = data.drop(['price']).to_pandas()\n",
    "y = data['price'].to_pandas()\n",
    "\n",
    "pipe = Pipeline([\n",
    "    ('preprocessor', preprocessor),\n",
    "    ('model', LinearRegression())\n",
    "])\n"
   ]
  },
  {
   "cell_type": "code",
   "execution_count": 21,
   "metadata": {},
   "outputs": [
    {
     "data": {
      "text/html": [
       "<style>#sk-container-id-4 {color: black;background-color: white;}#sk-container-id-4 pre{padding: 0;}#sk-container-id-4 div.sk-toggleable {background-color: white;}#sk-container-id-4 label.sk-toggleable__label {cursor: pointer;display: block;width: 100%;margin-bottom: 0;padding: 0.3em;box-sizing: border-box;text-align: center;}#sk-container-id-4 label.sk-toggleable__label-arrow:before {content: \"▸\";float: left;margin-right: 0.25em;color: #696969;}#sk-container-id-4 label.sk-toggleable__label-arrow:hover:before {color: black;}#sk-container-id-4 div.sk-estimator:hover label.sk-toggleable__label-arrow:before {color: black;}#sk-container-id-4 div.sk-toggleable__content {max-height: 0;max-width: 0;overflow: hidden;text-align: left;background-color: #f0f8ff;}#sk-container-id-4 div.sk-toggleable__content pre {margin: 0.2em;color: black;border-radius: 0.25em;background-color: #f0f8ff;}#sk-container-id-4 input.sk-toggleable__control:checked~div.sk-toggleable__content {max-height: 200px;max-width: 100%;overflow: auto;}#sk-container-id-4 input.sk-toggleable__control:checked~label.sk-toggleable__label-arrow:before {content: \"▾\";}#sk-container-id-4 div.sk-estimator input.sk-toggleable__control:checked~label.sk-toggleable__label {background-color: #d4ebff;}#sk-container-id-4 div.sk-label input.sk-toggleable__control:checked~label.sk-toggleable__label {background-color: #d4ebff;}#sk-container-id-4 input.sk-hidden--visually {border: 0;clip: rect(1px 1px 1px 1px);clip: rect(1px, 1px, 1px, 1px);height: 1px;margin: -1px;overflow: hidden;padding: 0;position: absolute;width: 1px;}#sk-container-id-4 div.sk-estimator {font-family: monospace;background-color: #f0f8ff;border: 1px dotted black;border-radius: 0.25em;box-sizing: border-box;margin-bottom: 0.5em;}#sk-container-id-4 div.sk-estimator:hover {background-color: #d4ebff;}#sk-container-id-4 div.sk-parallel-item::after {content: \"\";width: 100%;border-bottom: 1px solid gray;flex-grow: 1;}#sk-container-id-4 div.sk-label:hover label.sk-toggleable__label {background-color: #d4ebff;}#sk-container-id-4 div.sk-serial::before {content: \"\";position: absolute;border-left: 1px solid gray;box-sizing: border-box;top: 0;bottom: 0;left: 50%;z-index: 0;}#sk-container-id-4 div.sk-serial {display: flex;flex-direction: column;align-items: center;background-color: white;padding-right: 0.2em;padding-left: 0.2em;position: relative;}#sk-container-id-4 div.sk-item {position: relative;z-index: 1;}#sk-container-id-4 div.sk-parallel {display: flex;align-items: stretch;justify-content: center;background-color: white;position: relative;}#sk-container-id-4 div.sk-item::before, #sk-container-id-4 div.sk-parallel-item::before {content: \"\";position: absolute;border-left: 1px solid gray;box-sizing: border-box;top: 0;bottom: 0;left: 50%;z-index: -1;}#sk-container-id-4 div.sk-parallel-item {display: flex;flex-direction: column;z-index: 1;position: relative;background-color: white;}#sk-container-id-4 div.sk-parallel-item:first-child::after {align-self: flex-end;width: 50%;}#sk-container-id-4 div.sk-parallel-item:last-child::after {align-self: flex-start;width: 50%;}#sk-container-id-4 div.sk-parallel-item:only-child::after {width: 0;}#sk-container-id-4 div.sk-dashed-wrapped {border: 1px dashed gray;margin: 0 0.4em 0.5em 0.4em;box-sizing: border-box;padding-bottom: 0.4em;background-color: white;}#sk-container-id-4 div.sk-label label {font-family: monospace;font-weight: bold;display: inline-block;line-height: 1.2em;}#sk-container-id-4 div.sk-label-container {text-align: center;}#sk-container-id-4 div.sk-container {/* jupyter's `normalize.less` sets `[hidden] { display: none; }` but bootstrap.min.css set `[hidden] { display: none !important; }` so we also need the `!important` here to be able to override the default hidden behavior on the sphinx rendered scikit-learn.org. See: https://github.com/scikit-learn/scikit-learn/issues/21755 */display: inline-block !important;position: relative;}#sk-container-id-4 div.sk-text-repr-fallback {display: none;}</style><div id=\"sk-container-id-4\" class=\"sk-top-container\"><div class=\"sk-text-repr-fallback\"><pre>Pipeline(steps=[(&#x27;preprocessor&#x27;,\n",
       "                 ColumnTransformer(transformers=[(&#x27;num&#x27;,\n",
       "                                                  Pipeline(steps=[(&#x27;imputer&#x27;,\n",
       "                                                                   SimpleImputer()),\n",
       "                                                                  (&#x27;scaler&#x27;,\n",
       "                                                                   StandardScaler())]),\n",
       "                                                  [&#x27;symboling&#x27;, &#x27;wheelbase&#x27;,\n",
       "                                                   &#x27;carlength&#x27;, &#x27;carwidth&#x27;,\n",
       "                                                   &#x27;carheight&#x27;, &#x27;curbweight&#x27;,\n",
       "                                                   &#x27;enginesize&#x27;, &#x27;boreratio&#x27;,\n",
       "                                                   &#x27;stroke&#x27;, &#x27;compressionratio&#x27;,\n",
       "                                                   &#x27;horsepower&#x27;, &#x27;peakrpm&#x27;,\n",
       "                                                   &#x27;citympg&#x27;, &#x27;highwaympg&#x27;]),\n",
       "                                                 (&#x27;cat&#x27;,\n",
       "                                                  Pipeline(steps=[(&#x27;imputer&#x27;,\n",
       "                                                                   SimpleImputer(strategy=&#x27;most_frequent&#x27;)),\n",
       "                                                                  (&#x27;onehot&#x27;,\n",
       "                                                                   OneHotEncoder(handle_unknown=&#x27;ignore&#x27;))]),\n",
       "                                                  [&#x27;fueltype&#x27;, &#x27;aspiration&#x27;,\n",
       "                                                   &#x27;doornumber&#x27;, &#x27;carbody&#x27;,\n",
       "                                                   &#x27;drivewheel&#x27;,\n",
       "                                                   &#x27;enginelocation&#x27;,\n",
       "                                                   &#x27;enginetype&#x27;,\n",
       "                                                   &#x27;cylindernumber&#x27;,\n",
       "                                                   &#x27;fuelsystem&#x27;])])),\n",
       "                (&#x27;model&#x27;, LinearRegression())])</pre><b>In a Jupyter environment, please rerun this cell to show the HTML representation or trust the notebook. <br />On GitHub, the HTML representation is unable to render, please try loading this page with nbviewer.org.</b></div><div class=\"sk-container\" hidden><div class=\"sk-item sk-dashed-wrapped\"><div class=\"sk-label-container\"><div class=\"sk-label sk-toggleable\"><input class=\"sk-toggleable__control sk-hidden--visually\" id=\"sk-estimator-id-28\" type=\"checkbox\" ><label for=\"sk-estimator-id-28\" class=\"sk-toggleable__label sk-toggleable__label-arrow\">Pipeline</label><div class=\"sk-toggleable__content\"><pre>Pipeline(steps=[(&#x27;preprocessor&#x27;,\n",
       "                 ColumnTransformer(transformers=[(&#x27;num&#x27;,\n",
       "                                                  Pipeline(steps=[(&#x27;imputer&#x27;,\n",
       "                                                                   SimpleImputer()),\n",
       "                                                                  (&#x27;scaler&#x27;,\n",
       "                                                                   StandardScaler())]),\n",
       "                                                  [&#x27;symboling&#x27;, &#x27;wheelbase&#x27;,\n",
       "                                                   &#x27;carlength&#x27;, &#x27;carwidth&#x27;,\n",
       "                                                   &#x27;carheight&#x27;, &#x27;curbweight&#x27;,\n",
       "                                                   &#x27;enginesize&#x27;, &#x27;boreratio&#x27;,\n",
       "                                                   &#x27;stroke&#x27;, &#x27;compressionratio&#x27;,\n",
       "                                                   &#x27;horsepower&#x27;, &#x27;peakrpm&#x27;,\n",
       "                                                   &#x27;citympg&#x27;, &#x27;highwaympg&#x27;]),\n",
       "                                                 (&#x27;cat&#x27;,\n",
       "                                                  Pipeline(steps=[(&#x27;imputer&#x27;,\n",
       "                                                                   SimpleImputer(strategy=&#x27;most_frequent&#x27;)),\n",
       "                                                                  (&#x27;onehot&#x27;,\n",
       "                                                                   OneHotEncoder(handle_unknown=&#x27;ignore&#x27;))]),\n",
       "                                                  [&#x27;fueltype&#x27;, &#x27;aspiration&#x27;,\n",
       "                                                   &#x27;doornumber&#x27;, &#x27;carbody&#x27;,\n",
       "                                                   &#x27;drivewheel&#x27;,\n",
       "                                                   &#x27;enginelocation&#x27;,\n",
       "                                                   &#x27;enginetype&#x27;,\n",
       "                                                   &#x27;cylindernumber&#x27;,\n",
       "                                                   &#x27;fuelsystem&#x27;])])),\n",
       "                (&#x27;model&#x27;, LinearRegression())])</pre></div></div></div><div class=\"sk-serial\"><div class=\"sk-item sk-dashed-wrapped\"><div class=\"sk-label-container\"><div class=\"sk-label sk-toggleable\"><input class=\"sk-toggleable__control sk-hidden--visually\" id=\"sk-estimator-id-29\" type=\"checkbox\" ><label for=\"sk-estimator-id-29\" class=\"sk-toggleable__label sk-toggleable__label-arrow\">preprocessor: ColumnTransformer</label><div class=\"sk-toggleable__content\"><pre>ColumnTransformer(transformers=[(&#x27;num&#x27;,\n",
       "                                 Pipeline(steps=[(&#x27;imputer&#x27;, SimpleImputer()),\n",
       "                                                 (&#x27;scaler&#x27;, StandardScaler())]),\n",
       "                                 [&#x27;symboling&#x27;, &#x27;wheelbase&#x27;, &#x27;carlength&#x27;,\n",
       "                                  &#x27;carwidth&#x27;, &#x27;carheight&#x27;, &#x27;curbweight&#x27;,\n",
       "                                  &#x27;enginesize&#x27;, &#x27;boreratio&#x27;, &#x27;stroke&#x27;,\n",
       "                                  &#x27;compressionratio&#x27;, &#x27;horsepower&#x27;, &#x27;peakrpm&#x27;,\n",
       "                                  &#x27;citympg&#x27;, &#x27;highwaympg&#x27;]),\n",
       "                                (&#x27;cat&#x27;,\n",
       "                                 Pipeline(steps=[(&#x27;imputer&#x27;,\n",
       "                                                  SimpleImputer(strategy=&#x27;most_frequent&#x27;)),\n",
       "                                                 (&#x27;onehot&#x27;,\n",
       "                                                  OneHotEncoder(handle_unknown=&#x27;ignore&#x27;))]),\n",
       "                                 [&#x27;fueltype&#x27;, &#x27;aspiration&#x27;, &#x27;doornumber&#x27;,\n",
       "                                  &#x27;carbody&#x27;, &#x27;drivewheel&#x27;, &#x27;enginelocation&#x27;,\n",
       "                                  &#x27;enginetype&#x27;, &#x27;cylindernumber&#x27;,\n",
       "                                  &#x27;fuelsystem&#x27;])])</pre></div></div></div><div class=\"sk-parallel\"><div class=\"sk-parallel-item\"><div class=\"sk-item\"><div class=\"sk-label-container\"><div class=\"sk-label sk-toggleable\"><input class=\"sk-toggleable__control sk-hidden--visually\" id=\"sk-estimator-id-30\" type=\"checkbox\" ><label for=\"sk-estimator-id-30\" class=\"sk-toggleable__label sk-toggleable__label-arrow\">num</label><div class=\"sk-toggleable__content\"><pre>[&#x27;symboling&#x27;, &#x27;wheelbase&#x27;, &#x27;carlength&#x27;, &#x27;carwidth&#x27;, &#x27;carheight&#x27;, &#x27;curbweight&#x27;, &#x27;enginesize&#x27;, &#x27;boreratio&#x27;, &#x27;stroke&#x27;, &#x27;compressionratio&#x27;, &#x27;horsepower&#x27;, &#x27;peakrpm&#x27;, &#x27;citympg&#x27;, &#x27;highwaympg&#x27;]</pre></div></div></div><div class=\"sk-serial\"><div class=\"sk-item\"><div class=\"sk-serial\"><div class=\"sk-item\"><div class=\"sk-estimator sk-toggleable\"><input class=\"sk-toggleable__control sk-hidden--visually\" id=\"sk-estimator-id-31\" type=\"checkbox\" ><label for=\"sk-estimator-id-31\" class=\"sk-toggleable__label sk-toggleable__label-arrow\">SimpleImputer</label><div class=\"sk-toggleable__content\"><pre>SimpleImputer()</pre></div></div></div><div class=\"sk-item\"><div class=\"sk-estimator sk-toggleable\"><input class=\"sk-toggleable__control sk-hidden--visually\" id=\"sk-estimator-id-32\" type=\"checkbox\" ><label for=\"sk-estimator-id-32\" class=\"sk-toggleable__label sk-toggleable__label-arrow\">StandardScaler</label><div class=\"sk-toggleable__content\"><pre>StandardScaler()</pre></div></div></div></div></div></div></div></div><div class=\"sk-parallel-item\"><div class=\"sk-item\"><div class=\"sk-label-container\"><div class=\"sk-label sk-toggleable\"><input class=\"sk-toggleable__control sk-hidden--visually\" id=\"sk-estimator-id-33\" type=\"checkbox\" ><label for=\"sk-estimator-id-33\" class=\"sk-toggleable__label sk-toggleable__label-arrow\">cat</label><div class=\"sk-toggleable__content\"><pre>[&#x27;fueltype&#x27;, &#x27;aspiration&#x27;, &#x27;doornumber&#x27;, &#x27;carbody&#x27;, &#x27;drivewheel&#x27;, &#x27;enginelocation&#x27;, &#x27;enginetype&#x27;, &#x27;cylindernumber&#x27;, &#x27;fuelsystem&#x27;]</pre></div></div></div><div class=\"sk-serial\"><div class=\"sk-item\"><div class=\"sk-serial\"><div class=\"sk-item\"><div class=\"sk-estimator sk-toggleable\"><input class=\"sk-toggleable__control sk-hidden--visually\" id=\"sk-estimator-id-34\" type=\"checkbox\" ><label for=\"sk-estimator-id-34\" class=\"sk-toggleable__label sk-toggleable__label-arrow\">SimpleImputer</label><div class=\"sk-toggleable__content\"><pre>SimpleImputer(strategy=&#x27;most_frequent&#x27;)</pre></div></div></div><div class=\"sk-item\"><div class=\"sk-estimator sk-toggleable\"><input class=\"sk-toggleable__control sk-hidden--visually\" id=\"sk-estimator-id-35\" type=\"checkbox\" ><label for=\"sk-estimator-id-35\" class=\"sk-toggleable__label sk-toggleable__label-arrow\">OneHotEncoder</label><div class=\"sk-toggleable__content\"><pre>OneHotEncoder(handle_unknown=&#x27;ignore&#x27;)</pre></div></div></div></div></div></div></div></div></div></div><div class=\"sk-item\"><div class=\"sk-estimator sk-toggleable\"><input class=\"sk-toggleable__control sk-hidden--visually\" id=\"sk-estimator-id-36\" type=\"checkbox\" ><label for=\"sk-estimator-id-36\" class=\"sk-toggleable__label sk-toggleable__label-arrow\">LinearRegression</label><div class=\"sk-toggleable__content\"><pre>LinearRegression()</pre></div></div></div></div></div></div></div>"
      ],
      "text/plain": [
       "Pipeline(steps=[('preprocessor',\n",
       "                 ColumnTransformer(transformers=[('num',\n",
       "                                                  Pipeline(steps=[('imputer',\n",
       "                                                                   SimpleImputer()),\n",
       "                                                                  ('scaler',\n",
       "                                                                   StandardScaler())]),\n",
       "                                                  ['symboling', 'wheelbase',\n",
       "                                                   'carlength', 'carwidth',\n",
       "                                                   'carheight', 'curbweight',\n",
       "                                                   'enginesize', 'boreratio',\n",
       "                                                   'stroke', 'compressionratio',\n",
       "                                                   'horsepower', 'peakrpm',\n",
       "                                                   'citympg', 'highwaympg']),\n",
       "                                                 ('cat',\n",
       "                                                  Pipeline(steps=[('imputer',\n",
       "                                                                   SimpleImputer(strategy='most_frequent')),\n",
       "                                                                  ('onehot',\n",
       "                                                                   OneHotEncoder(handle_unknown='ignore'))]),\n",
       "                                                  ['fueltype', 'aspiration',\n",
       "                                                   'doornumber', 'carbody',\n",
       "                                                   'drivewheel',\n",
       "                                                   'enginelocation',\n",
       "                                                   'enginetype',\n",
       "                                                   'cylindernumber',\n",
       "                                                   'fuelsystem'])])),\n",
       "                ('model', LinearRegression())])"
      ]
     },
     "execution_count": 21,
     "metadata": {},
     "output_type": "execute_result"
    }
   ],
   "source": [
    "pipe"
   ]
  },
  {
   "cell_type": "code",
   "execution_count": 26,
   "metadata": {},
   "outputs": [
    {
     "name": "stdout",
     "output_type": "stream",
     "text": [
      "Average R2 : 0.8532369954702088\n"
     ]
    }
   ],
   "source": [
    "score=[]\n",
    "for i in range(0,100):\n",
    "    X_train,X_test,Y_train,Y_test = train_test_split(X,y,test_size=0.2)\n",
    "    pipe.fit(X_train,Y_train)\n",
    "    pred=pipe.predict(X_test)\n",
    "    score.append(r2_score(Y_test,pred))\n",
    "print(\"Average R2 :\",np.average(score))"
   ]
  },
  {
   "cell_type": "code",
   "execution_count": null,
   "metadata": {},
   "outputs": [],
   "source": []
  }
 ],
 "metadata": {
  "kernelspec": {
   "display_name": "eda",
   "language": "python",
   "name": "python3"
  },
  "language_info": {
   "codemirror_mode": {
    "name": "ipython",
    "version": 3
   },
   "file_extension": ".py",
   "mimetype": "text/x-python",
   "name": "python",
   "nbconvert_exporter": "python",
   "pygments_lexer": "ipython3",
   "version": "3.8.18"
  }
 },
 "nbformat": 4,
 "nbformat_minor": 2
}
